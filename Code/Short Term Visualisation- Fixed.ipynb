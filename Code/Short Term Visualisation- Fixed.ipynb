{
 "cells": [
  {
   "cell_type": "markdown",
   "metadata": {},
   "source": [
    "# Small Temporal Density Variations\n"
   ]
  },
  {
   "cell_type": "markdown",
   "metadata": {},
   "source": [
    "The following code is used to visualise density varitions from photographs of a moving ridge in the lab. The code firstly takes a background photograph, finds the density profile then compares said profile to photographs taken of the moving ridge."
   ]
  },
  {
   "cell_type": "code",
   "execution_count": 1,
   "metadata": {},
   "outputs": [],
   "source": [
    "%matplotlib qt\n",
    "#notebook backend important\n",
    "import matplotlib\n",
    "import numpy as np\n",
    "import pandas as pd\n",
    "import matplotlib.pyplot as plt\n",
    "from mpl_toolkits.axes_grid1 import make_axes_locatable\n",
    "import os.path\n",
    "import cv2\n",
    "from matplotlib import rc\n",
    "from tkinter.filedialog import askopenfilename\n",
    "from tkinter.filedialog import askopenfilenames\n",
    "import matplotlib.animation as animation\n",
    "import cmocean as cmo\n",
    "import time"
   ]
  },
  {
   "cell_type": "code",
   "execution_count": 14,
   "metadata": {},
   "outputs": [],
   "source": [
    "#A simple function used when clicking of photos to determine where in an array the click is\n",
    "def index_find(depths,click):\n",
    "    lst = depths<click\n",
    "    for i,v in enumerate(lst):\n",
    "        if v==True:\n",
    "            return i"
   ]
  },
  {
   "cell_type": "markdown",
   "metadata": {},
   "source": [
    "## Loading the data from the experiments "
   ]
  },
  {
   "cell_type": "code",
   "execution_count": 3,
   "metadata": {},
   "outputs": [],
   "source": [
    "excel_path = askopenfilename() #path to excel doc with data\n",
    "data = pd.read_excel(excel_path)"
   ]
  },
  {
   "cell_type": "code",
   "execution_count": 4,
   "metadata": {
    "scrolled": true
   },
   "outputs": [
    {
     "name": "stdout",
     "output_type": "stream",
     "text": [
      "Run number:8\n",
      "Data read\n"
     ]
    }
   ],
   "source": [
    "%matplotlib qt\n",
    "\n",
    "run_num = int(input('Run number:'))\n",
    "print('Data read')\n",
    "#getting data from excel doc\n",
    "rho_bottom = data.iloc[run_num-1, 7]\n",
    "rho_top = data.iloc[run_num-1, 6]\n",
    "depth = data.iloc[run_num-1, 2]"
   ]
  },
  {
   "cell_type": "markdown",
   "metadata": {},
   "source": [
    "## Analysing the background image"
   ]
  },
  {
   "cell_type": "code",
   "execution_count": 5,
   "metadata": {},
   "outputs": [],
   "source": [
    "#now choose background image, this image should not contain topography\n",
    "\n",
    "background_path = askopenfilename() \n",
    "b_image = cv2.imread(background_path,0)"
   ]
  },
  {
   "cell_type": "markdown",
   "metadata": {},
   "source": [
    "Now we choose the area of photograph we want to average over to create a background stratification profile. The top of the region should be the free surface and the bottom should be the base of the tank."
   ]
  },
  {
   "cell_type": "code",
   "execution_count": 6,
   "metadata": {},
   "outputs": [
    {
     "name": "stdout",
     "output_type": "stream",
     "text": [
      "Select the top then the bottom\n",
      "Locations recorded\n"
     ]
    }
   ],
   "source": [
    "plt.figure()\n",
    "plt.title('Choose Area to Average over')\n",
    "plt.axis('off')\n",
    "plt.imshow(b_image, cmap='gist_gray')\n",
    "print('Select the top then the bottom' )\n",
    "density_locations = plt.ginput(2)\n",
    "print('Locations recorded')\n",
    "\n",
    "zbot_0=int(np.round(density_locations[0][1]))\n",
    "ztop_0=int(np.round(density_locations[1][1]))\n",
    "\n",
    "back_crop= b_image[zbot_0:ztop_0,:]\n",
    "\n",
    "log_back = np.log(back_crop)\n",
    "\n",
    "#getting rid of unwated inf_values\n",
    "log_back[np.isinf(log_back)]=np.nan\n",
    "\n",
    "intensity = np.float32(log_back)\n",
    "depth_array = -np.linspace(0,depth,intensity.shape[0])"
   ]
  },
  {
   "cell_type": "code",
   "execution_count": 7,
   "metadata": {},
   "outputs": [
    {
     "name": "stdout",
     "output_type": "stream",
     "text": [
      "Position of density sample close to top, then close to bottom\n",
      "Locations recorded\n"
     ]
    }
   ],
   "source": [
    "#determining the location of density samples top then bottom\n",
    "length_ratio = depth/intensity.shape[0]\n",
    "\n",
    "plt.figure()\n",
    "plt.title('Density Sample Locations')\n",
    "plt.ylabel('z (m)')\n",
    "plt.xlabel('x (m)')\n",
    "plt.imshow(intensity, cmap='gist_gray', extent=[0,length_ratio*intensity.shape[1],-depth,0])\n",
    "print('Position of density sample close to top, then close to bottom' )\n",
    "density_locations = plt.ginput(2)\n",
    "print('Locations recorded')\n",
    "\n",
    "zbot_rho=index_find(depth_array,density_locations[1][1])\n",
    "ztop_rho=index_find(depth_array,density_locations[0][1])\n",
    "\n",
    "middle= int(intensity.shape[1]/2)\n",
    "intensity_average=np.mean(intensity[:,middle-10:middle+10],axis=1)\n",
    "\n",
    "\n",
    "beta = (rho_bottom-rho_top)/(intensity_average[zbot_rho]-intensity_average[ztop_rho])\n",
    "bottom_ref = intensity_average[zbot_rho]\n",
    "\n",
    "rho_ref=rho_bottom+np.float64(beta*(intensity-bottom_ref))\n"
   ]
  },
  {
   "cell_type": "code",
   "execution_count": 8,
   "metadata": {},
   "outputs": [],
   "source": [
    "#now plotting background density field\n",
    "plt.figure()\n",
    "im=plt.imshow(rho_ref,vmin=rho_top,vmax=rho_bottom, extent=[0,length_ratio*intensity.shape[1],-depth,0])\n",
    "plt.title('Background Density')\n",
    "ax = plt.gca()\n",
    "divider = make_axes_locatable(ax)\n",
    "cax = divider.append_axes(\"right\", size=\"5%\", pad=0.05)\n",
    "cbar=plt.colorbar(im, cax=cax)\n",
    "cbar.set_label(r'Density (kg m$^{-3}$)', rotation=90)\n",
    "cbar.ax.invert_yaxis()"
   ]
  },
  {
   "cell_type": "markdown",
   "metadata": {},
   "source": [
    "## Foreground Images\n",
    "Choose the rapid foreground images you want in order to make a video of the moving ridge in density space\n"
   ]
  },
  {
   "cell_type": "code",
   "execution_count": 11,
   "metadata": {},
   "outputs": [],
   "source": [
    "#now choose the pictures you want to look over, also creates a folder to save the video\n",
    "foreground_path = askopenfilenames()\n",
    "no_images = len(foreground_path)\n",
    "os.mkdir('{}/densityfields2'.format(os.path.dirname(foreground_path[0])))"
   ]
  },
  {
   "cell_type": "code",
   "execution_count": 12,
   "metadata": {},
   "outputs": [
    {
     "name": "stdout",
     "output_type": "stream",
     "text": [
      "279 Images to analyse!\n"
     ]
    }
   ],
   "source": [
    "%matplotlib inline\n",
    "print('{} Images to analyse!'.format(no_images))\n",
    "#inline backend used to stop hundreds of plots occuring, very important!!!!!!!"
   ]
  },
  {
   "cell_type": "code",
   "execution_count": null,
   "metadata": {
    "scrolled": true
   },
   "outputs": [
    {
     "name": "stderr",
     "output_type": "stream",
     "text": [
      "C:\\Users\\u6201343\\AppData\\Local\\Continuum\\anaconda3\\lib\\site-packages\\ipykernel_launcher.py:15: RuntimeWarning: divide by zero encountered in log\n",
      "  from ipykernel import kernelapp as app\n",
      "C:\\Users\\u6201343\\AppData\\Local\\Continuum\\anaconda3\\lib\\site-packages\\ipykernel_launcher.py:27: RuntimeWarning: invalid value encountered in greater\n"
     ]
    },
    {
     "name": "stdout",
     "output_type": "stream",
     "text": [
      "0 of 279 Images Done!\n",
      "25 of 279 Images Done!\n",
      "50 of 279 Images Done!\n",
      "75 of 279 Images Done!\n",
      "100 of 279 Images Done!\n",
      "125 of 279 Images Done!\n",
      "150 of 279 Images Done!\n",
      "175 of 279 Images Done!\n",
      "200 of 279 Images Done!\n",
      "225 of 279 Images Done!\n",
      "250 of 279 Images Done!\n",
      "275 of 279 Images Done!\n",
      "Saving!\n"
     ]
    }
   ],
   "source": [
    "#first doing density\n",
    "\n",
    "ims=[]\n",
    "fig = plt.figure(figsize=(10,5))\n",
    "\n",
    "y,x=rho_ref.shape\n",
    "#density_anomaly = np.zeros((no_images,y,x))\n",
    "density_abs = np.zeros((no_images,y,x))\n",
    "\n",
    "\n",
    "for i in range(no_images):\n",
    "\n",
    "    f_image=cv2.imread(foreground_path[i],0)\n",
    "    f_image_crop=f_image[zbot_0:ztop_0,:]\n",
    "    absorbtion = np.log(f_image_crop)\n",
    "\n",
    "    #getting rid of unwated inf_values and converting to density\n",
    "    absorbtion[np.isinf(absorbtion)]=np.nan\n",
    "    density = rho_bottom+np.float64(beta*(absorbtion-bottom_ref))\n",
    "    \n",
    "    \n",
    "    cmap = cmo.cm.balance\n",
    "    vmin=-2\n",
    "    vmax=-vmin\n",
    "        \n",
    "    den=density[:,:]-rho_ref\n",
    "    den[den>4]=np.nan\n",
    "    density_filt=cv2.medianBlur(np.float32(den[50:,:]),3)\n",
    "        \n",
    "    plt_depth=depth\n",
    "    tank_length=length_ratio*density_filt.shape[1]\n",
    "\n",
    "    im=plt.imshow(density_filt, cmap=cmap, animated=True, vmin=vmin,vmax=vmax, extent=[0,tank_length,-plt_depth,0])\n",
    "    title = 'Run {}- Density Anomaly'.format(run_num)\n",
    "    plt.title(title, fontsize=20)\n",
    "    \n",
    "    plt.xlabel('Length (m)')\n",
    "    plt.ylabel('Depth (m)')\n",
    "    \n",
    "    ims.append([im])\n",
    "    density_abs[i]=density\n",
    "    if i % 25 == 0:\n",
    "        print('{} of {} Images Done!'.format(i,no_images))\n",
    "        \n",
    "        \n",
    "ani = animation.ArtistAnimation(fig, ims, interval=125, blit=True,\n",
    "                                repeat_delay=1000)\n",
    "\n",
    "\n",
    "ax = plt.gca()\n",
    "divider = make_axes_locatable(ax)\n",
    "cax = divider.append_axes(\"right\", size=\"5%\", pad=0.05)\n",
    "cbar=plt.colorbar(im, cax=cax)\n",
    "cbar.set_label(r'Density (kg m$^{-3}$)', rotation=90)\n",
    "\n",
    "\n",
    "print('Saving!')\n",
    "\n",
    "writer = animation.writers['ffmpeg']\n",
    "save_name = 'run_{}_anomaly'.format(run_num)\n",
    "ani.save('{}/densityfields2/{}.mp4'.format(os.path.dirname(foreground_path[0]),save_name), dpi=250)\n",
    "#np.savez('{}/densityfields/data'.format(os.path.dirname(foreground_path[0])),density_abs=density_abs, rho_ref=rho_ref,depth_array=depth_array, tank_length=tank_length,plt_depth=plt_depth)\n"
   ]
  },
  {
   "cell_type": "markdown",
   "metadata": {},
   "source": [
    "Now for abseloute density\n"
   ]
  },
  {
   "cell_type": "code",
   "execution_count": null,
   "metadata": {},
   "outputs": [],
   "source": [
    "ims=[]\n",
    "fig = plt.figure(figsize=(10,5))\n",
    "\n",
    "\n",
    "\n",
    "for i in range(no_images):\n",
    "\n",
    "    f_image=cv2.imread(foreground_path[i],0)\n",
    "    f_image_crop=f_image[zbot_0:ztop_0,:]\n",
    "    absorbtion = np.log(f_image_crop)\n",
    "\n",
    "    #getting rid of unwated inf_values and converting to density\n",
    "    absorbtion[np.isinf(absorbtion)]=np.nan\n",
    "    density = rho_bottom+np.float64(beta*(absorbtion-bottom_ref))\n",
    "    \n",
    "    cut=600\n",
    "    plt_depth=depth/718*(718-cut)\n",
    "            \n",
    "    den=density[:,50:-50]\n",
    "    den[den>rho_bottom+2]=np.nan\n",
    "    density_filt=cv2.medianBlur(np.float32(den[:cut,:]),3)\n",
    "\n",
    "    \n",
    "    tank_length=length_ratio*density_filt.shape[1]\n",
    "    \n",
    "    cmap = cmo.cm.dense\n",
    "    vmin=rho_top\n",
    "    vmax=rho_top+4\n",
    "        \n",
    "  \n",
    "\n",
    "    im=plt.imshow(density_filt, cmap=cmap, animated=True, vmin=vmin,vmax=vmax, extent=[0,tank_length,-plt_depth,0])\n",
    "    title = 'Run {}- Density'.format(run_num)\n",
    "    plt.title(title, fontsize=20)\n",
    "    \n",
    "    plt.xlabel('Length (m)')\n",
    "    plt.ylabel('Depth (m)')\n",
    "    \n",
    "    ims.append([im])\n",
    "\n",
    "    \n",
    "    if i % 25 == 0:\n",
    "        print('{} of {} Images Done!'.format(i,no_images))\n",
    "        \n",
    "        \n",
    "ani = animation.ArtistAnimation(fig, ims, interval=125, blit=True,\n",
    "                                repeat_delay=1000)\n",
    "\n",
    "\n",
    "ax = plt.gca()\n",
    "divider = make_axes_locatable(ax)\n",
    "cax = divider.append_axes(\"right\", size=\"5%\", pad=0.05)\n",
    "cbar=plt.colorbar(im, cax=cax)\n",
    "cbar.set_label(r'Density (kg m$^{-3}$)', rotation=90)\n",
    "\n",
    "\n",
    "print('Saving!')\n",
    "\n",
    "writer = animation.writers['ffmpeg']\n",
    "save_name = 'run_{}_abs'.format(run_num)\n",
    "ani.save('{}/densityfields/{}.mp4'.format(os.path.dirname(foreground_path[0]),save_name), dpi=250)"
   ]
  },
  {
   "cell_type": "markdown",
   "metadata": {},
   "source": [
    "## Finding Velocities \n",
    "\n",
    "Plan to use:\n",
    "\n",
    "$\\frac{D b}{D t}+N^2(z)w\\approx 0,$\n",
    "\n",
    " to determine $w$. This yields:\n",
    " \n",
    " $w=-\\frac{1}{N^2}\\frac{D b}{D t},$\n",
    "\n",
    "and then use $\\nabla \\mathbf{u}=0$ to determine $u$. \n",
    "\n",
    "This method does assume there is negligible mixing and is not yet fully implimented. Going to using background stratification to determine N, looks like there is two distinct regions- the thermocline where $N^2=0$ and below the thermocline where $N$ is stable $(N^2>0)$.\n",
    "\n",
    "\n"
   ]
  },
  {
   "cell_type": "code",
   "execution_count": null,
   "metadata": {},
   "outputs": [],
   "source": [
    "#loading in data\n",
    "data_path=askopenfilename() \n",
    "data=np.load(data_path)\n",
    "\n",
    "rho=data['rho']\n",
    "depth=data['depth']\n",
    "depth_array=data['depth_array']\n",
    "density_array=data['density_array']\n",
    "tank_length=data['tank_length']\n",
    "plt_depth=data['plt_depth']\n"
   ]
  },
  {
   "cell_type": "code",
   "execution_count": null,
   "metadata": {},
   "outputs": [],
   "source": [
    "density_abs.shape"
   ]
  },
  {
   "cell_type": "code",
   "execution_count": null,
   "metadata": {},
   "outputs": [],
   "source": [
    "rho_ref.shape"
   ]
  },
  {
   "cell_type": "code",
   "execution_count": null,
   "metadata": {
    "scrolled": true
   },
   "outputs": [],
   "source": [
    "rho_slice=np.mean(rho_ref[:,middle-10:middle+10],axis=1)\n",
    "\n",
    "\n",
    "plt.plot(rho_slice, depth_array)"
   ]
  },
  {
   "cell_type": "code",
   "execution_count": null,
   "metadata": {},
   "outputs": [],
   "source": [
    "g = 9.81\n",
    "n=np.sqrt(g/1000*(rho_bottom-rho_top)/depth)\n"
   ]
  },
  {
   "cell_type": "code",
   "execution_count": null,
   "metadata": {},
   "outputs": [],
   "source": [
    "#now we want to find Db/dt\n",
    "t,y,x=density_abs.shape\n",
    "w=np.zeros((t-1,y,x))\n",
    "\n",
    "delta_t=0.125\n",
    "sf=1\n",
    "scaling = -sf/n**2\n",
    "for i in range(100):\n",
    "    diff = (density_abs[i+1]-density_abs[i])/delta_t\n",
    "    w[i] = diff*scaling\n",
    "    "
   ]
  },
  {
   "cell_type": "code",
   "execution_count": null,
   "metadata": {},
   "outputs": [],
   "source": [
    "plt.figure(figsize=(15,10))\n",
    "plt.imshow(w[99],vmin=-10,vmax=10,cmap=cmo.cm.balance)"
   ]
  },
  {
   "cell_type": "code",
   "execution_count": null,
   "metadata": {},
   "outputs": [],
   "source": [
    "plt.figure(figsize=(15,10))\n",
    "plt.imshow(cv2.medianBlur(np.float32(w[9]),5),vmin=-5,vmax=5,cmap=cmo.cm.balance)"
   ]
  },
  {
   "cell_type": "markdown",
   "metadata": {},
   "source": [
    "## Making a steady Image"
   ]
  },
  {
   "cell_type": "code",
   "execution_count": 16,
   "metadata": {},
   "outputs": [],
   "source": [
    "#creating an array with location of tip of hill\n",
    "cropped_den = density_abs[:,:600,:]\n",
    "t,y,x=cropped_den.shape\n",
    "topo_location = np.zeros(t)\n",
    "for i in range(t):\n",
    "    image=cropped_den[i]\n",
    "    nan_count=np.sum(np.isnan(image),axis=0)\n",
    "    max_loc = np.argmax(nan_count)\n",
    "    topo_location[i]=max_loc"
   ]
  },
  {
   "cell_type": "code",
   "execution_count": 17,
   "metadata": {},
   "outputs": [],
   "source": [
    "#simple convolution to smooth out location data\n",
    "\n",
    "def smooth(y,no_pts):\n",
    "    box = np.ones(no_pts)/no_pts\n",
    "    y_smooth=np.convolve(y,box,mode='valid')\n",
    "    \n",
    "    return np.round(y_smooth)"
   ]
  },
  {
   "cell_type": "code",
   "execution_count": 18,
   "metadata": {},
   "outputs": [],
   "source": [
    "#smoothing\n",
    "\n",
    "topo_location_filt = smooth(topo_location,3)"
   ]
  },
  {
   "cell_type": "code",
   "execution_count": 19,
   "metadata": {},
   "outputs": [],
   "source": [
    "#now cropping images keeping the centre location constant\n",
    "\n",
    "right = int(x-max(topo_location_filt))\n",
    "left = int(min(topo_location_filt))\n",
    "\n",
    "centre=np.zeros((t-2,y,right+left))\n",
    "\n",
    "t=t-2\n",
    "for i in range(t):\n",
    "    topo=int(topo_location_filt[i]) \n",
    "    image=cropped_den[i+1]\n",
    "    cropped_image=image[:,int(topo-left):int(topo+right)]\n",
    "    centre[i]=cropped_image"
   ]
  },
  {
   "cell_type": "code",
   "execution_count": 20,
   "metadata": {},
   "outputs": [
    {
     "data": {
      "text/plain": [
       "Text(0, 0.5, 'Topography Location (Pixel)')"
      ]
     },
     "execution_count": 20,
     "metadata": {},
     "output_type": "execute_result"
    },
    {
     "data": {
      "image/png": "[encoded data removed]",
      "text/plain": [
       "<Figure size 720x432 with 1 Axes>"
      ]
     },
     "metadata": {
      "needs_background": "light"
     },
     "output_type": "display_data"
    }
   ],
   "source": [
    "plt.figure(figsize=(10,6))\n",
    "plt.plot(topo_location,label='Raw')\n",
    "plt.plot(topo_location_filt,label='Smoothed')\n",
    "plt.legend()\n",
    "plt.title('Topography Location')\n",
    "plt.xlabel('Image Number')\n",
    "plt.ylabel('Topography Location (Pixel)')"
   ]
  },
  {
   "cell_type": "code",
   "execution_count": null,
   "metadata": {},
   "outputs": [
    {
     "name": "stdout",
     "output_type": "stream",
     "text": [
      "0 of 277 Images Done!\n",
      "25 of 277 Images Done!\n",
      "50 of 277 Images Done!\n",
      "75 of 277 Images Done!\n",
      "100 of 277 Images Done!\n",
      "125 of 277 Images Done!\n",
      "150 of 277 Images Done!\n",
      "175 of 277 Images Done!\n",
      "200 of 277 Images Done!\n",
      "225 of 277 Images Done!\n",
      "250 of 277 Images Done!\n"
     ]
    }
   ],
   "source": [
    "#using the same code as above to create a video to look at centred topogrpahy\n",
    "\n",
    "ims=[]\n",
    "fig = plt.figure(figsize=(10,5))\n",
    "\n",
    "for i in range(t-2):\n",
    "    \n",
    "    image=centre[i][::-1]\n",
    "    im=plt.imshow(image, animated=True)\n",
    "    \n",
    "    ims.append([im])\n",
    "\n",
    "    \n",
    "    if i % 25 == 0:\n",
    "        print('{} of {} Images Done!'.format(i,t))\n",
    "        \n",
    "        \n",
    "ani = animation.ArtistAnimation(fig, ims, interval=125, blit=True,\n",
    "                                repeat_delay=1000)\n",
    "\n",
    "\n",
    "\n",
    "writer = animation.writers['ffmpeg']\n",
    "save_name = 'centre_test'.format(run_num)\n",
    "ani.save('{}/densityfields2/{}.mp4'.format(os.path.dirname(foreground_path[0]),save_name), dpi=250)"
   ]
  },
  {
   "cell_type": "code",
   "execution_count": null,
   "metadata": {},
   "outputs": [],
   "source": []
  }
 ],
 "metadata": {
  "kernelspec": {
   "display_name": "Python 3",
   "language": "python",
   "name": "python3"
  },
  "language_info": {
   "codemirror_mode": {
    "name": "ipython",
    "version": 3
   },
   "file_extension": ".py",
   "mimetype": "text/x-python",
   "name": "python",
   "nbconvert_exporter": "python",
   "pygments_lexer": "ipython3",
   "version": "3.7.1"
  }
 },
 "nbformat": 4,
 "nbformat_minor": 2
}
