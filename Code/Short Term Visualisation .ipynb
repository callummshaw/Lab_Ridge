{
 "cells": [
  {
   "cell_type": "markdown",
   "metadata": {},
   "source": [
    "# Small Temporal Density Variations\n"
   ]
  },
  {
   "cell_type": "markdown",
   "metadata": {},
   "source": [
    "The following code is used to visualise density varitions from photographs of a moving ridge in the lab. The code firstly takes a background photograph, finds the density profile then compares said profile to photographs taken of the moving ridge."
   ]
  },
  {
   "cell_type": "code",
   "execution_count": 1,
   "metadata": {},
   "outputs": [],
   "source": [
    "%matplotlib qt\n",
    "#notebook backend important\n",
    "import matplotlib\n",
    "import numpy as np\n",
    "import pandas as pd\n",
    "import matplotlib.pyplot as plt\n",
    "from mpl_toolkits.axes_grid1 import make_axes_locatable\n",
    "import os.path\n",
    "import cv2\n",
    "from tkinter.filedialog import askopenfilename\n",
    "from tkinter.filedialog import askopenfilenames\n",
    "import matplotlib.animation as animation\n",
    "from scipy import signal \n",
    "import cmocean as cmo"
   ]
  },
  {
   "cell_type": "code",
   "execution_count": 2,
   "metadata": {},
   "outputs": [],
   "source": [
    "#A simple function used when clicking of photos to determine where in an array the click is\n",
    "def index_find(depths,click):\n",
    "    lst = depths<click\n",
    "    for i,v in enumerate(lst):\n",
    "        if v==True:\n",
    "            return i"
   ]
  },
  {
   "cell_type": "markdown",
   "metadata": {},
   "source": [
    "## Loading the data from the experiments "
   ]
  },
  {
   "cell_type": "code",
   "execution_count": 3,
   "metadata": {},
   "outputs": [],
   "source": [
    "excel_path = askopenfilename() #path to excel doc with data\n",
    "data = pd.read_excel(excel_path)"
   ]
  },
  {
   "cell_type": "code",
   "execution_count": 4,
   "metadata": {
    "scrolled": true
   },
   "outputs": [
    {
     "name": "stdout",
     "output_type": "stream",
     "text": [
      "Run number:21\n",
      "Data read\n"
     ]
    }
   ],
   "source": [
    "%matplotlib qt\n",
    "\n",
    "run_num = int(input('Run number:'))\n",
    "print('Data read')\n",
    "#getting data from excel doc\n",
    "rho_bottom = data.iloc[run_num-1, 8]\n",
    "rho_top = data.iloc[run_num-1, 7]\n",
    "depth = data.iloc[run_num-1, 3]\n",
    "\n"
   ]
  },
  {
   "cell_type": "markdown",
   "metadata": {},
   "source": [
    "## Analysing the background image"
   ]
  },
  {
   "cell_type": "code",
   "execution_count": 5,
   "metadata": {},
   "outputs": [],
   "source": [
    "#now choose background image, this image should not contain topography\n",
    "\n",
    "background_path = askopenfilename() \n",
    "b_image = cv2.imread(background_path,0)"
   ]
  },
  {
   "cell_type": "markdown",
   "metadata": {},
   "source": [
    "Now we choose the area of photograph we want to average over to create a background stratification profile. The top of the region should be the free surface and the bottom should be the base of the tank."
   ]
  },
  {
   "cell_type": "code",
   "execution_count": 6,
   "metadata": {},
   "outputs": [
    {
     "name": "stdout",
     "output_type": "stream",
     "text": [
      "Select the top left then the bottom right\n",
      "Locations recorded\n"
     ]
    }
   ],
   "source": [
    "plt.figure()\n",
    "plt.title('Choose Area to Average over')\n",
    "plt.axis('off')\n",
    "plt.imshow(b_image, cmap='gist_gray')\n",
    "print('Select the top left then the bottom right' )\n",
    "density_locations = plt.ginput(2)\n",
    "print('Locations recorded')\n",
    "\n",
    "zbot_0=int(np.round(density_locations[0][1]))\n",
    "ztop_0=int(np.round(density_locations[1][1]))\n",
    "xleft=int(np.round(density_locations[0][0]))\n",
    "xright=int(np.round(density_locations[1][0]))\n",
    "\n",
    "back_crop= b_image[zbot_0:ztop_0,xleft:xright]\n",
    "\n",
    "\n",
    "#cropping and determining the background profile\n",
    "\n",
    "log_back = np.log(back_crop)\n",
    "\n",
    "#getting rid of unwated inf_values\n",
    "log_back[np.isinf(log_back)]=np.nan\n",
    "\n",
    "mean_ratio_profile = np.mean(log_back,1)\n",
    "intensity = mean_ratio_profile\n",
    "depth_array = -np.linspace(0,depth,len(mean_ratio_profile))"
   ]
  },
  {
   "cell_type": "markdown",
   "metadata": {},
   "source": [
    "### Fixing up the background absorbtion profile\n",
    "\n",
    "The top and bottom of the profile need to be fixed up"
   ]
  },
  {
   "cell_type": "code",
   "execution_count": 7,
   "metadata": {},
   "outputs": [
    {
     "name": "stdout",
     "output_type": "stream",
     "text": [
      "Choose bottom of top section\n",
      "Location recorded\n"
     ]
    }
   ],
   "source": [
    "# fixing up the top of the profile, making it have a constant value\n",
    "splintensity=np.copy(intensity)\n",
    "\n",
    "#determining the length of picture\n",
    "length_ratio = depth/splintensity.shape[0]\n",
    "\n",
    "plt.figure()\n",
    "plt.plot(intensity,depth_array)\n",
    "plt.xlabel('ln (Ix/Ix0)')\n",
    "plt.ylabel('z (m)')\n",
    "plt.title('Select Top Section of Absorption Profile')\n",
    "print('Choose bottom of top section')\n",
    "topsection = plt.ginput(1)[0][1]\n",
    "print('Location recorded')\n",
    "ztop=index_find(depth_array,topsection) \n",
    "splintensity[:ztop]=splintensity[ztop]"
   ]
  },
  {
   "cell_type": "code",
   "execution_count": null,
   "metadata": {},
   "outputs": [],
   "source": [
    "#fixing up the bottom of the profile, giving it a linear function\n",
    "#can skip this step if camera is not taking in the bottom of the tank\n",
    "\n",
    "\n",
    "plt.figure()\n",
    "plt.plot(splintensity,depth_array)\n",
    "plt.xlabel('ln (Ix/Ix0)')\n",
    "plt.ylabel('z (m)')\n",
    "plt.title('Select Bottom Section of Absorption Profile')\n",
    "print('Choose top then bottom')\n",
    "bottomsection = plt.ginput(2)\n",
    "print('Locations recorded')\n",
    "\n",
    "#finding equation of line\n",
    "slope = (bottomsection[0][1]-bottomsection[1][1])/(bottomsection[0][0]-bottomsection[1][0])\n",
    "\n",
    "zbot=index_find(depth_array, bottomsection[0][1]) \n",
    "\n",
    "splintensity[zbot:]=slope*np.linspace(0,bottomsection[0][1], len(splintensity)-zbot)+splintensity[zbot]"
   ]
  },
  {
   "cell_type": "code",
   "execution_count": 8,
   "metadata": {},
   "outputs": [
    {
     "data": {
      "text/plain": [
       "<matplotlib.legend.Legend at 0x15761c41748>"
      ]
     },
     "execution_count": 8,
     "metadata": {},
     "output_type": "execute_result"
    }
   ],
   "source": [
    "#plot that shows the raw vs the 'fixed' absorbtion profile\n",
    "\n",
    "plt.figure()\n",
    "plt.title('Absorbtion Profile')\n",
    "plt.xlabel('ln (Ix/Ix0)')\n",
    "plt.ylabel('z (m)')\n",
    "plt.plot(intensity,depth_array, 'b', label='Raw')\n",
    "plt.plot(splintensity,depth_array, 'r',label='Updated')\n",
    "plt.legend()"
   ]
  },
  {
   "cell_type": "code",
   "execution_count": null,
   "metadata": {},
   "outputs": [],
   "source": [
    "back_crop.shape[1]"
   ]
  },
  {
   "cell_type": "code",
   "execution_count": 9,
   "metadata": {},
   "outputs": [
    {
     "name": "stdout",
     "output_type": "stream",
     "text": [
      "Position of density sample close to top, then close to bottom\n",
      "Locations recorded\n"
     ]
    }
   ],
   "source": [
    "#determining the location of density samples top then bottom\n",
    "plt.figure()\n",
    "plt.title('Density Sample Locations')\n",
    "plt.ylabel('z (m)')\n",
    "plt.xlabel('x (m)')\n",
    "plt.imshow(back_crop, cmap='gist_gray', extent=[0,length_ratio*back_crop.shape[1],-depth,0])\n",
    "print('Position of density sample close to top, then close to bottom' )\n",
    "density_locations = plt.ginput(2)\n",
    "print('Locations recorded')\n",
    "\n",
    "zbot_rho=index_find(depth_array,density_locations[1][1])\n",
    "ztop_rho=index_find(depth_array,density_locations[0][1])\n",
    "\n",
    "beta = (rho_bottom-rho_top)/(splintensity[zbot_rho]-splintensity[ztop_rho])\n",
    "splintensity_bottom_ref = splintensity[zbot_rho]\n",
    "\n",
    "rho = rho_bottom+np.float64(beta*(splintensity-splintensity_bottom_ref))"
   ]
  },
  {
   "cell_type": "code",
   "execution_count": 10,
   "metadata": {},
   "outputs": [
    {
     "data": {
      "text/plain": [
       "Text(0.5, 1.0, 'Background Density')"
      ]
     },
     "execution_count": 10,
     "metadata": {},
     "output_type": "execute_result"
    }
   ],
   "source": [
    "#plot of background density\n",
    "plt.figure()\n",
    "plt.plot(rho, depth_array)\n",
    "plt.xlabel('rho (kg/m^3)')\n",
    "plt.ylabel('z (m)')\n",
    "plt.title('Background Density')"
   ]
  },
  {
   "cell_type": "markdown",
   "metadata": {},
   "source": [
    "## Foreground Images\n",
    "Choose the rapid foreground images you want in order to make a video of the moving ridge in density space\n"
   ]
  },
  {
   "cell_type": "code",
   "execution_count": 11,
   "metadata": {},
   "outputs": [],
   "source": [
    "#now choose the pictures you want to look over, also creates a folder to save the video\n",
    "foreground_path = askopenfilenames()\n",
    "no_images = len(foreground_path)\n",
    "os.mkdir('{}/densityfields'.format(os.path.dirname(foreground_path[0])))"
   ]
  },
  {
   "cell_type": "code",
   "execution_count": 12,
   "metadata": {},
   "outputs": [
    {
     "name": "stdout",
     "output_type": "stream",
     "text": [
      "571 Images to analyse!\n"
     ]
    }
   ],
   "source": [
    "%matplotlib inline\n",
    "print('{} Images to analyse!'.format(no_images))\n",
    "#inline backend used to stop hundreds of plots occuring, very important!!!!!!!"
   ]
  },
  {
   "cell_type": "markdown",
   "metadata": {},
   "source": [
    "Below is code used to generation video of ridge and determing if density anomaly or absolute density is wanted"
   ]
  },
  {
   "cell_type": "code",
   "execution_count": 15,
   "metadata": {},
   "outputs": [
    {
     "name": "stdout",
     "output_type": "stream",
     "text": [
      "What field? 1 for anomaly or 2 for absolute: 2\n"
     ]
    }
   ],
   "source": [
    "what_field = int(input('What field? 1 for anomaly or 2 for absolute: '))"
   ]
  },
  {
   "cell_type": "code",
   "execution_count": 16,
   "metadata": {
    "scrolled": true
   },
   "outputs": [
    {
     "name": "stderr",
     "output_type": "stream",
     "text": [
      "C:\\Users\\u6201343\\AppData\\Local\\Continuum\\anaconda3\\lib\\site-packages\\ipykernel_launcher.py:9: RuntimeWarning: divide by zero encountered in log\n",
      "  if __name__ == '__main__':\n",
      "C:\\Users\\u6201343\\AppData\\Local\\Continuum\\anaconda3\\lib\\site-packages\\ipykernel_launcher.py:41: RuntimeWarning: invalid value encountered in greater\n"
     ]
    },
    {
     "name": "stdout",
     "output_type": "stream",
     "text": [
      "0 of 571 Images Done!\n",
      "25 of 571 Images Done!\n",
      "50 of 571 Images Done!\n",
      "75 of 571 Images Done!\n",
      "100 of 571 Images Done!\n",
      "125 of 571 Images Done!\n",
      "150 of 571 Images Done!\n",
      "175 of 571 Images Done!\n",
      "200 of 571 Images Done!\n",
      "225 of 571 Images Done!\n",
      "250 of 571 Images Done!\n",
      "275 of 571 Images Done!\n",
      "300 of 571 Images Done!\n",
      "325 of 571 Images Done!\n",
      "350 of 571 Images Done!\n",
      "375 of 571 Images Done!\n",
      "400 of 571 Images Done!\n",
      "425 of 571 Images Done!\n",
      "450 of 571 Images Done!\n",
      "475 of 571 Images Done!\n",
      "500 of 571 Images Done!\n",
      "525 of 571 Images Done!\n",
      "550 of 571 Images Done!\n",
      "Saving!\n"
     ]
    },
    {
     "data": {
      "image/png": "[encoded data removed]",
      "text/plain": [
       "<Figure size 720x360 with 2 Axes>"
      ]
     },
     "metadata": {
      "needs_background": "light"
     },
     "output_type": "display_data"
    }
   ],
   "source": [
    "ims=[]\n",
    "\n",
    "fig = plt.figure(figsize=(10,5))\n",
    "\n",
    "for i in range(no_images):\n",
    "\n",
    "    f_image = cv2.imread(foreground_path[i],0)\n",
    "    f_image_crop=f_image[zbot_0:ztop_0,:]\n",
    "    log = np.log(f_image_crop)\n",
    "\n",
    "    #getting rid of unwated inf_values\n",
    "    log[np.isinf(log)]=np.nan\n",
    "    \n",
    "    density = rho_bottom+np.float64(beta*(log-splintensity_bottom_ref))\n",
    "    \n",
    "    if what_field == 1:\n",
    "        \n",
    "        title = 'Run {}- Density Anomaly'.format(run_num)\n",
    "        save_name = 'run_{}_anomaly'.format(run_num)\n",
    "        \n",
    "        cmap = cmo.cm.balance\n",
    "        vmin=-2.5\n",
    "        vmax=-vmin\n",
    "        \n",
    "        den=density[:,50:-50]-rho[:,None]\n",
    "        den[den>4]=np.nan\n",
    "        density_filt=signal.medfilt2d(den[50:,:],3)\n",
    "        \n",
    "        plt_depth=depth\n",
    "        tank_length=length_ratio*density_filt.shape[1]\n",
    "    \n",
    "    if what_field == 2:\n",
    "        \n",
    "        title = 'Run {}- Absolute Density'.format(run_num)\n",
    "        save_name = 'run_{}_absolute'.format(run_num)\n",
    "        \n",
    "        cut=600\n",
    "        plt_depth=depth/718*(718-cut)\n",
    "            \n",
    "        den=density[:,50:-50]\n",
    "        den[den>rho_bottom+2]=np.nan\n",
    "        density_filt=signal.medfilt2d(den[:cut,:],3)\n",
    "    \n",
    "        tank_length=length_ratio*density_filt.shape[1]\n",
    "    \n",
    "        cmap = cmo.cm.dense\n",
    "        vmin=rho_top\n",
    "        vmax=rho_top+4\n",
    "        \n",
    "        \n",
    "    plt.xlabel('Length (m)')\n",
    "    plt.ylabel('Depth (m)')\n",
    "    plt.title(title, fontsize=20)\n",
    "\n",
    "\n",
    "    im=plt.imshow(density_filt, cmap=cmap, animated=True, vmin=vmin,vmax=vmax, extent=[0,tank_length,-plt_depth,0])\n",
    "    ims.append([im])\n",
    "\n",
    "    if i % 25 == 0:\n",
    "        print('{} of {} Images Done!'.format(i,no_images))\n",
    "        \n",
    "ani = animation.ArtistAnimation(fig, ims, interval=125, blit=True,\n",
    "                                repeat_delay=1000)\n",
    "\n",
    "\n",
    "#colorbar\n",
    "\n",
    "ax = plt.gca()\n",
    "divider = make_axes_locatable(ax)\n",
    "cax = divider.append_axes(\"right\", size=\"5%\", pad=0.05)\n",
    "cbar=plt.colorbar(im, cax=cax)\n",
    "cbar.set_label('Density (kg/m3)', rotation=90)\n",
    "\n",
    "\n",
    "print('Saving!')\n",
    "\n",
    "writer = animation.writers['ffmpeg']\n",
    "ani.save('{}/densityfields/{}.mp4'.format(os.path.dirname(foreground_path[0]),save_name), dpi=400)\n"
   ]
  },
  {
   "cell_type": "markdown",
   "metadata": {},
   "source": [
    "## Finding Velocities \n",
    "\n",
    "Plan to use:\n",
    "$\\frac{D b}{D t}+N^2(z)w\\approx 0,$\n",
    "to determine $w$ and then use:\n",
    "$\\nabla \\mathbf{u}=0$ to determine $u$. This method does assume there is negligible mixing and is not yet fully implimented. Going to using background stratification to determine N, looks like there is two distinct regions- the thermocline where $N^2=0$ and below the thermocline where $N$ is stable $(N^2>0)$"
   ]
  },
  {
   "cell_type": "code",
   "execution_count": 26,
   "metadata": {},
   "outputs": [],
   "source": [
    "#finding the two regions\n",
    "%matplotlib qt\n",
    "\n",
    "N=np.zeros(len(rho))\n",
    "g = 9.81\n",
    "rho_0= rho[0]\n",
    "d_rho = np.gradient(rho,depth/rho.size)\n"
   ]
  },
  {
   "cell_type": "code",
   "execution_count": 27,
   "metadata": {},
   "outputs": [
    {
     "name": "stdout",
     "output_type": "stream",
     "text": [
      "Location recorded\n"
     ]
    }
   ],
   "source": [
    "plt.figure()\n",
    "plt.plot(rho,depth_array)\n",
    "plt.xlabel('Density (kg/m3)')\n",
    "plt.ylabel('z (m)')\n",
    "plt.title('Select Bottom Section of Thermocline')\n",
    "bottom_thermocline = plt.ginput(1)\n",
    "print('Location recorded')"
   ]
  },
  {
   "cell_type": "code",
   "execution_count": 69,
   "metadata": {},
   "outputs": [],
   "source": [
    "N=np.zeros(len(rho))\n",
    "g = 9.81\n",
    "bottom=index_find(depth_array,bottom_thermocline[0][1])\n",
    "rho_0=rho[bottom]\n",
    "rho_max=rho[-1]\n",
    "N[:bottom]=0\n",
    "N[bottom:]=np.sqrt(g/rho_0*(rho_max-rho_0)/(depth+bottom_thermocline[0][1]))\n",
    "\n",
    "\n"
   ]
  },
  {
   "cell_type": "code",
   "execution_count": 70,
   "metadata": {},
   "outputs": [
    {
     "data": {
      "text/plain": [
       "[<matplotlib.lines.Line2D at 0x15702966ba8>]"
      ]
     },
     "execution_count": 70,
     "metadata": {},
     "output_type": "execute_result"
    }
   ],
   "source": [
    "\n",
    "plt.plot(N,depth_array)"
   ]
  },
  {
   "cell_type": "code",
   "execution_count": 66,
   "metadata": {},
   "outputs": [
    {
     "data": {
      "text/plain": [
       "[<matplotlib.lines.Line2D at 0x15701ed6748>]"
      ]
     },
     "execution_count": 66,
     "metadata": {},
     "output_type": "execute_result"
    }
   ],
   "source": [
    "plt.plot(N,depth_array)"
   ]
  },
  {
   "cell_type": "code",
   "execution_count": null,
   "metadata": {},
   "outputs": [],
   "source": [
    "b_image.shape[1]"
   ]
  },
  {
   "cell_type": "code",
   "execution_count": 51,
   "metadata": {},
   "outputs": [
    {
     "data": {
      "text/plain": [
       "1002.3947636265909"
      ]
     },
     "execution_count": 51,
     "metadata": {},
     "output_type": "execute_result"
    }
   ],
   "source": [
    "bottom_thermocline[0][0]"
   ]
  },
  {
   "cell_type": "code",
   "execution_count": 68,
   "metadata": {},
   "outputs": [
    {
     "data": {
      "text/plain": [
       "0.16251619179527768"
      ]
     },
     "execution_count": 68,
     "metadata": {},
     "output_type": "execute_result"
    }
   ],
   "source": [
    "depth+bottom_thermocline[0][1]"
   ]
  },
  {
   "cell_type": "code",
   "execution_count": null,
   "metadata": {},
   "outputs": [],
   "source": [
    "slope = (bottomsection[0][1]-bottomsection[1][1])/(bottomsection[0][0]-bottomsection[1][0])\n",
    "\n",
    "zbot=index_find(depth_array, bottomsection[0][1]) \n",
    "\n",
    "splintensity[zbot:]=slope*np.linspace(0,bottomsection[0][1], len(splintensity)-zbot)+splintensity[zbot]"
   ]
  }
 ],
 "metadata": {
  "kernelspec": {
   "display_name": "Python 3",
   "language": "python",
   "name": "python3"
  },
  "language_info": {
   "codemirror_mode": {
    "name": "ipython",
    "version": 3
   },
   "file_extension": ".py",
   "mimetype": "text/x-python",
   "name": "python",
   "nbconvert_exporter": "python",
   "pygments_lexer": "ipython3",
   "version": "3.7.1"
  }
 },
 "nbformat": 4,
 "nbformat_minor": 2
}
