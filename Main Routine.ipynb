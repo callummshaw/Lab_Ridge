{
 "cells": [
  {
   "cell_type": "markdown",
   "metadata": {},
   "source": [
    "# Main Routine\n",
    "\n",
    "This code is an updated python adaption of Yvan Dossman's original Matlab code\n",
    "by Callum Shaw\n",
    "13/12/2019\n"
   ]
  },
  {
   "cell_type": "code",
   "execution_count": 8,
   "metadata": {},
   "outputs": [],
   "source": [
    "%matplotlib qt\n",
    "#notebook backend important\n",
    "\n",
    "import pandas as pd\n",
    "import numpy as np\n",
    "import matplotlib.pyplot as plt\n",
    "import cv2\n",
    "import os.path\n",
    "from tkinter.filedialog import askopenfilename\n",
    "from tkinter.filedialog import askopenfilenames"
   ]
  },
  {
   "cell_type": "code",
   "execution_count": 77,
   "metadata": {},
   "outputs": [],
   "source": [
    "def index_find(depths,click):\n",
    "    lst = depths>click\n",
    "    for i,v in enumerate(lst):\n",
    "        if v==True:\n",
    "            return i\n",
    "        "
   ]
  },
  {
   "cell_type": "code",
   "execution_count": null,
   "metadata": {},
   "outputs": [],
   "source": []
  },
  {
   "cell_type": "markdown",
   "metadata": {},
   "source": [
    "Loading in the experiment density data from excel"
   ]
  },
  {
   "cell_type": "code",
   "execution_count": 9,
   "metadata": {},
   "outputs": [
    {
     "name": "stdout",
     "output_type": "stream",
     "text": [
      "Experiment number:35\n"
     ]
    }
   ],
   "source": [
    "excel_path = askopenfilename() #path to excel doc\n",
    "\n",
    "exp_num = int(input('Experiment number:'))\n",
    "data = pd.read_excel(excel_path, skiprows=3) #has 3 unwanted rows at top\n",
    "\n",
    "#getting data from excel doc\n",
    "rho_bottom = data.iloc[exp_num, 10]\n",
    "rho_top = data.iloc[exp_num, 11]\n",
    "depth = data.iloc[exp_num, 7]\n"
   ]
  },
  {
   "cell_type": "markdown",
   "metadata": {},
   "source": [
    "Loading in the background image and choosing region want to analyse (should be homogeneous). This image should contain no topography"
   ]
  },
  {
   "cell_type": "code",
   "execution_count": 10,
   "metadata": {},
   "outputs": [],
   "source": [
    "background_path = askopenfilename() \n",
    "b_image = cv2.imread(background_path,0)"
   ]
  },
  {
   "cell_type": "code",
   "execution_count": 11,
   "metadata": {
    "scrolled": true
   },
   "outputs": [
    {
     "name": "stdout",
     "output_type": "stream",
     "text": [
      "Select the left then the right portion of the region you want to average over\n"
     ]
    }
   ],
   "source": [
    "\n",
    "plt.figure()\n",
    "plt.title('Background Image')\n",
    "plt.imshow(b_image, cmap='gist_gray')\n",
    "print('Select the left then the right portion of the region you want to average over')\n",
    "crop_region = plt.ginput(2) #select the left then the right \n"
   ]
  },
  {
   "cell_type": "markdown",
   "metadata": {},
   "source": [
    "Loading in the foreground images"
   ]
  },
  {
   "cell_type": "code",
   "execution_count": 12,
   "metadata": {},
   "outputs": [],
   "source": [
    "#now loading in the foreground photos\n",
    "foreground_path = askopenfilenames()\n",
    "no_images = len(foreground_path)\n",
    "os.mkdir('{}/results'.format(os.path.dirname(foreground_path[0]))) #making a directory to store results in same location as before\n"
   ]
  },
  {
   "cell_type": "markdown",
   "metadata": {},
   "source": [
    "Now analysing the foreground photos"
   ]
  },
  {
   "cell_type": "code",
   "execution_count": 13,
   "metadata": {},
   "outputs": [
    {
     "name": "stdout",
     "output_type": "stream",
     "text": [
      "Position of free surface then tank bottom\n"
     ]
    }
   ],
   "source": [
    "f_image = cv2.imread(foreground_path[0],0) #choosing the imag\n",
    "\n",
    "f1=plt.figure()\n",
    "plt.title('Foreground Image')\n",
    "plt.imshow(f_image,  cmap='gist_gray') #plotting the f_image_crop check if happy \n",
    "print('Position of free surface then tank bottom')\n",
    "free_surface = plt.ginput(2)\n",
    "\n",
    "f2=plt.figure()\n",
    "f_image_crop = f_image[int(free_surface[0][1]):int(free_surface[1][1]),int(crop_region[0][0]):int(crop_region[1][0])]\n",
    "plt.title('Foreground Image Cropped')\n",
    "plt.imshow(f_image_crop,  cmap='gist_gray') #plotting the f_image_crop check if happy \n",
    "\n",
    "#cropping the background image the same way\n",
    "b_image_crop = b_image[int(free_surface[0][1]):int(free_surface[1][1]),int(crop_region[0][0]):int(crop_region[1][0])]\n",
    "b_image_crop = b_image_crop*0+1 #in the case of an initially varing stratification"
   ]
  },
  {
   "cell_type": "markdown",
   "metadata": {},
   "source": [
    "Absorbtion Calculation"
   ]
  },
  {
   "cell_type": "code",
   "execution_count": 59,
   "metadata": {
    "scrolled": true
   },
   "outputs": [
    {
     "data": {
      "text/plain": [
       "Text(0.5, 1.0, 'Raw Absorption Profile')"
      ]
     },
     "execution_count": 59,
     "metadata": {},
     "output_type": "execute_result"
    }
   ],
   "source": [
    "ratio =f_image_crop/b_image_crop\n",
    "log_ratio = np.log(ratio)\n",
    "\n",
    "#getting rid of unwated inf_values\n",
    "log_ratio[np.isinf(log_ratio)]=np.nan\n",
    "\n",
    "mean_ratio_profile = np.mean(log_ratio,1)\n",
    "intensity = mean_ratio_profile[::-1]\n",
    "\n",
    "depth_array = np.linspace(0,depth,len(mean_ratio_profile))\n",
    "gamma=depth/(int(free_surface[1][1])-int(free_surface[0][1]))\n",
    "\n",
    "plt.plot(intensity,depth_array)\n",
    "plt.xlabel('ln (Ix/Ix0)')\n",
    "plt.ylabel('z (m)')\n",
    "plt.title('Raw Absorption Profile')"
   ]
  },
  {
   "cell_type": "markdown",
   "metadata": {},
   "source": [
    "Spline of the intensity profile- fixing the top and bottom. Using constant at top and linear slope at bottom"
   ]
  },
  {
   "cell_type": "code",
   "execution_count": 143,
   "metadata": {},
   "outputs": [
    {
     "name": "stdout",
     "output_type": "stream",
     "text": [
      "Choose bottom of top section\n"
     ]
    }
   ],
   "source": [
    "#firstly looking at the top section \n",
    "splintensity=np.copy(intensity)\n",
    "\n",
    "plt.plot(intensity,depth_array)\n",
    "plt.xlabel('ln (Ix/Ix0)')\n",
    "plt.ylabel('z (m)')\n",
    "plt.title('Select Top Section of Absorption Profile')\n",
    "print('Choose bottom of top section')\n",
    "topsection = plt.ginput(1)[0][1]\n",
    "\n",
    "ztop=index_find(depth_array,topsection) \n",
    "splintensity[ztop:]=splintensity[ztop]"
   ]
  },
  {
   "cell_type": "code",
   "execution_count": 144,
   "metadata": {},
   "outputs": [
    {
     "name": "stdout",
     "output_type": "stream",
     "text": [
      "Choose top then bottom\n"
     ]
    }
   ],
   "source": [
    "#now looking at the bottom section \n",
    "\n",
    "plt.plot(splintensity,depth_array)\n",
    "plt.xlabel('ln (Ix/Ix0)')\n",
    "plt.ylabel('z (m)')\n",
    "plt.title('Select Bottom Section of Absorption Profile')\n",
    "print('Choose top then bottom')\n",
    "bottomsection = plt.ginput(2)\n"
   ]
  },
  {
   "cell_type": "code",
   "execution_count": 149,
   "metadata": {},
   "outputs": [],
   "source": [
    "slope = (bottomsection[0][0]-bottomsection[1][0])/bottomsection[0][1]\n",
    "intercept = bottomsection[0][1]-bottomsection[0][0]/slope\n",
    "zbot=index_find(depth_array, bottomsection[0][1]) \n",
    "splintensity[0:zbot]=slope*(np.linspace(0,bottomsection[0][1], zbot)-intercept)\n",
    "\n",
    "plt.plot(splintensity,depth_array)\n",
    "plt.xlabel('ln (Ix/Ix0)')\n",
    "plt.ylabel('z (m)')"
   ]
  },
  {
   "cell_type": "markdown",
   "metadata": {},
   "source": [
    "Check that plot above looks good or repeat as needed"
   ]
  },
  {
   "cell_type": "code",
   "execution_count": null,
   "metadata": {},
   "outputs": [],
   "source": []
  }
 ],
 "metadata": {
  "kernelspec": {
   "display_name": "Python 3",
   "language": "python",
   "name": "python3"
  },
  "language_info": {
   "codemirror_mode": {
    "name": "ipython",
    "version": 3
   },
   "file_extension": ".py",
   "mimetype": "text/x-python",
   "name": "python",
   "nbconvert_exporter": "python",
   "pygments_lexer": "ipython3",
   "version": "3.7.1"
  }
 },
 "nbformat": 4,
 "nbformat_minor": 2
}
