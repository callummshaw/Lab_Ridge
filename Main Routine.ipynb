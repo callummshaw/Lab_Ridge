{
 "cells": [
  {
   "cell_type": "markdown",
   "metadata": {},
   "source": [
    "# Main Routine\n",
    "\n",
    "This code is an updated Python adaption of Yvan Dossman's original Matlab code\n",
    "by Callum Shaw\n",
    "\n"
   ]
  },
  {
   "cell_type": "code",
   "execution_count": 38,
   "metadata": {},
   "outputs": [],
   "source": [
    "%matplotlib qt\n",
    "#notebook backend important\n",
    "\n",
    "import pandas as pd\n",
    "import numpy as np\n",
    "import matplotlib.pyplot as plt\n",
    "import time\n",
    "import os.path\n",
    "from tkinter.filedialog import askopenfilename\n",
    "from tkinter.filedialog import askopenfilenames"
   ]
  },
  {
   "cell_type": "code",
   "execution_count": null,
   "metadata": {},
   "outputs": [],
   "source": [
    "\n",
    "def index_find(depths,click):\n",
    "    lst = depths>click\n",
    "    for i,v in enumerate(lst):\n",
    "        if v==True:\n",
    "            return i\n",
    "        "
   ]
  },
  {
   "cell_type": "markdown",
   "metadata": {},
   "source": [
    "## Creating Density Profiles\n",
    "Loading in the experiment density data from excel"
   ]
  },
  {
   "cell_type": "code",
   "execution_count": null,
   "metadata": {},
   "outputs": [],
   "source": [
    "excel_path = askopenfilename() #path to excel doc\n",
    "\n",
    "exp_num = int(input('Experiment number:'))\n",
    "data = pd.read_excel(excel_path, skiprows=3) #has 3 unwanted rows at top\n",
    "\n",
    "#getting data from excel doc\n",
    "rho_bottom = data.iloc[exp_num, 10]\n",
    "rho_top = data.iloc[exp_num, 11]\n",
    "depth = data.iloc[exp_num, 7]\n"
   ]
  },
  {
   "cell_type": "markdown",
   "metadata": {},
   "source": [
    "Loading in the background image and choosing region want to analyse (should be homogeneous). This image should contain no topography"
   ]
  },
  {
   "cell_type": "code",
   "execution_count": 4,
   "metadata": {},
   "outputs": [],
   "source": [
    "background_path = askopenfilename() \n",
    "b_image = cv2.imread(background_path,0)"
   ]
  },
  {
   "cell_type": "code",
   "execution_count": 13,
   "metadata": {
    "scrolled": true
   },
   "outputs": [
    {
     "name": "stdout",
     "output_type": "stream",
     "text": [
      "Select the left then the right portion of the region you want to average over\n",
      "Locations recorded\n"
     ]
    }
   ],
   "source": [
    "\n",
    "plt.figure()\n",
    "plt.title('Background Image')\n",
    "plt.imshow(b_image, cmap='gist_gray')\n",
    "print('Select the left then the right portion of the region you want to average over')\n",
    "crop_region = plt.ginput(2) #select the left then the right \n",
    "print('Locations recorded')"
   ]
  },
  {
   "cell_type": "markdown",
   "metadata": {},
   "source": [
    "Loading in the foreground images"
   ]
  },
  {
   "cell_type": "code",
   "execution_count": 14,
   "metadata": {},
   "outputs": [
    {
     "ename": "FileExistsError",
     "evalue": "[WinError 183] Cannot create a file when that file already exists: 'E:/Experiments/gamma/test_7/centre/results'",
     "output_type": "error",
     "traceback": [
      "\u001b[1;31m---------------------------------------------------------------------------\u001b[0m",
      "\u001b[1;31mFileExistsError\u001b[0m                           Traceback (most recent call last)",
      "\u001b[1;32m<ipython-input-14-acbc90e3b8e2>\u001b[0m in \u001b[0;36m<module>\u001b[1;34m\u001b[0m\n\u001b[0;32m      2\u001b[0m \u001b[0mforeground_path\u001b[0m \u001b[1;33m=\u001b[0m \u001b[0maskopenfilenames\u001b[0m\u001b[1;33m(\u001b[0m\u001b[1;33m)\u001b[0m\u001b[1;33m\u001b[0m\u001b[1;33m\u001b[0m\u001b[0m\n\u001b[0;32m      3\u001b[0m \u001b[0mno_images\u001b[0m \u001b[1;33m=\u001b[0m \u001b[0mlen\u001b[0m\u001b[1;33m(\u001b[0m\u001b[0mforeground_path\u001b[0m\u001b[1;33m)\u001b[0m\u001b[1;33m\u001b[0m\u001b[1;33m\u001b[0m\u001b[0m\n\u001b[1;32m----> 4\u001b[1;33m \u001b[0mos\u001b[0m\u001b[1;33m.\u001b[0m\u001b[0mmkdir\u001b[0m\u001b[1;33m(\u001b[0m\u001b[1;34m'{}/results'\u001b[0m\u001b[1;33m.\u001b[0m\u001b[0mformat\u001b[0m\u001b[1;33m(\u001b[0m\u001b[0mos\u001b[0m\u001b[1;33m.\u001b[0m\u001b[0mpath\u001b[0m\u001b[1;33m.\u001b[0m\u001b[0mdirname\u001b[0m\u001b[1;33m(\u001b[0m\u001b[0mforeground_path\u001b[0m\u001b[1;33m[\u001b[0m\u001b[1;36m0\u001b[0m\u001b[1;33m]\u001b[0m\u001b[1;33m)\u001b[0m\u001b[1;33m)\u001b[0m\u001b[1;33m)\u001b[0m \u001b[1;31m#making a directory to store results in same location as before\u001b[0m\u001b[1;33m\u001b[0m\u001b[1;33m\u001b[0m\u001b[0m\n\u001b[0m",
      "\u001b[1;31mFileExistsError\u001b[0m: [WinError 183] Cannot create a file when that file already exists: 'E:/Experiments/gamma/test_7/centre/results'"
     ]
    }
   ],
   "source": [
    "#now loading in the foreground photos\n",
    "foreground_path = askopenfilenames()\n",
    "no_images = len(foreground_path)\n",
    "os.mkdir('{}/results'.format(os.path.dirname(foreground_path[0]))) #making a directory to store results in same location as before\n"
   ]
  },
  {
   "cell_type": "markdown",
   "metadata": {},
   "source": [
    "Now analysing the foreground photos"
   ]
  },
  {
   "cell_type": "code",
   "execution_count": 15,
   "metadata": {},
   "outputs": [
    {
     "name": "stdout",
     "output_type": "stream",
     "text": [
      "Position of free surface then tank bottom\n",
      "Locations recorded\n"
     ]
    }
   ],
   "source": [
    "f_image = cv2.imread(foreground_path[0],0) #choosing the imag\n",
    "\n",
    "f1=plt.figure()\n",
    "plt.title('Foreground Image')\n",
    "plt.imshow(f_image,  cmap='gist_gray') #plotting the f_image_crop check if happy \n",
    "print('Position of free surface then tank bottom')\n",
    "free_surface = plt.ginput(2)\n",
    "print('Locations recorded')\n",
    "\n",
    "f2=plt.figure()\n",
    "f_image_crop = f_image[int(free_surface[0][1]):int(free_surface[1][1]),int(crop_region[0][0]):int(crop_region[1][0])]\n",
    "plt.title('Foreground Image Cropped')\n",
    "plt.imshow(f_image_crop,  cmap='gist_gray') #plotting the f_image_crop check if happy \n",
    "\n",
    "#cropping the background image the same way\n",
    "b_image_crop = b_image[int(free_surface[0][1]):int(free_surface[1][1]),int(crop_region[0][0]):int(crop_region[1][0])]\n",
    "b_image_crop = b_image_crop*0+1 #in the case of an initially varing stratification"
   ]
  },
  {
   "cell_type": "markdown",
   "metadata": {},
   "source": [
    "Absorbtion Calculation"
   ]
  },
  {
   "cell_type": "code",
   "execution_count": 16,
   "metadata": {
    "scrolled": true
   },
   "outputs": [
    {
     "data": {
      "text/plain": [
       "Text(0.5, 1.0, 'Raw Absorption Profile')"
      ]
     },
     "execution_count": 16,
     "metadata": {},
     "output_type": "execute_result"
    }
   ],
   "source": [
    "ratio =f_image_crop/b_image_crop\n",
    "log_ratio = np.log(ratio)\n",
    "\n",
    "#getting rid of unwated inf_values\n",
    "log_ratio[np.isinf(log_ratio)]=np.nan\n",
    "\n",
    "mean_ratio_profile = np.mean(log_ratio,1)\n",
    "intensity = mean_ratio_profile[::-1]\n",
    "\n",
    "depth_array = np.linspace(0,depth,len(mean_ratio_profile))\n",
    "gamma=depth/(int(free_surface[1][1])-int(free_surface[0][1]))\n",
    "plt.figure()\n",
    "plt.plot(intensity,depth_array)\n",
    "plt.xlabel('ln (Ix/Ix0)')\n",
    "plt.ylabel('z (m)')\n",
    "plt.title('Raw Absorption Profile')"
   ]
  },
  {
   "cell_type": "markdown",
   "metadata": {},
   "source": [
    "Spline of the intensity profile- fixing the top and bottom. Using constant at top and linear slope at bottom"
   ]
  },
  {
   "cell_type": "code",
   "execution_count": 17,
   "metadata": {},
   "outputs": [
    {
     "name": "stdout",
     "output_type": "stream",
     "text": [
      "Choose bottom of top section\n",
      "Location recorded\n"
     ]
    }
   ],
   "source": [
    "#firstly looking at the top section \n",
    "splintensity=np.copy(intensity)\n",
    "\n",
    "plt.figure()\n",
    "plt.plot(intensity,depth_array)\n",
    "plt.xlabel('ln (Ix/Ix0)')\n",
    "plt.ylabel('z (m)')\n",
    "plt.title('Select Top Section of Absorption Profile')\n",
    "print('Choose bottom of top section')\n",
    "topsection = plt.ginput(1)[0][1]\n",
    "print('Location recorded')\n",
    "ztop=index_find(depth_array,topsection) \n",
    "splintensity[ztop:]=splintensity[ztop]"
   ]
  },
  {
   "cell_type": "code",
   "execution_count": 18,
   "metadata": {},
   "outputs": [
    {
     "name": "stdout",
     "output_type": "stream",
     "text": [
      "Choose top then bottom\n",
      "Locations recorded\n"
     ]
    }
   ],
   "source": [
    "#now looking at the bottom section \n",
    "plt.figure()\n",
    "plt.plot(splintensity,depth_array)\n",
    "plt.xlabel('ln (Ix/Ix0)')\n",
    "plt.ylabel('z (m)')\n",
    "plt.title('Select Bottom Section of Absorption Profile')\n",
    "print('Choose top then bottom')\n",
    "bottomsection = plt.ginput(2)\n",
    "print('Locations recorded')"
   ]
  },
  {
   "cell_type": "code",
   "execution_count": 19,
   "metadata": {},
   "outputs": [
    {
     "data": {
      "text/plain": [
       "<matplotlib.legend.Legend at 0x238925770f0>"
      ]
     },
     "execution_count": 19,
     "metadata": {},
     "output_type": "execute_result"
    }
   ],
   "source": [
    "slope = (bottomsection[0][0]-bottomsection[1][0])/bottomsection[0][1]\n",
    "intercept = bottomsection[0][1]-bottomsection[0][0]/slope\n",
    "zbot=index_find(depth_array, bottomsection[0][1]) \n",
    "splintensity[0:zbot]=slope*(np.linspace(0,bottomsection[0][1], zbot)-intercept)\n",
    "plt.figure()\n",
    "plt.title('Absorbtion Profile')\n",
    "plt.xlabel('ln (Ix/Ix0)')\n",
    "plt.ylabel('z (m)')\n",
    "plt.plot(intensity,depth_array, 'b', label='Raw')\n",
    "plt.plot(splintensity,depth_array, 'r',label='Updataed')\n",
    "plt.legend()\n"
   ]
  },
  {
   "cell_type": "markdown",
   "metadata": {},
   "source": [
    "Check that plot above looks good or repeat as needed"
   ]
  },
  {
   "cell_type": "markdown",
   "metadata": {},
   "source": [
    "## Now converting from intensity to density\n"
   ]
  },
  {
   "cell_type": "code",
   "execution_count": 20,
   "metadata": {},
   "outputs": [
    {
     "name": "stdout",
     "output_type": "stream",
     "text": [
      "Position of density sample close to bottom, then close to free surface\n",
      "Locations recorded\n"
     ]
    }
   ],
   "source": [
    "#determining the location of density samples (rho_bottom, rho_top)\n",
    "\n",
    "plt.figure()\n",
    "plt.title('Density Sample Locations')\n",
    "plt.ylabel('z (m)')\n",
    "plt.imshow(f_image_crop, cmap='gist_gray')\n",
    "print('Position of density sample close to bottom, then close to free surface' )\n",
    "density_locations = plt.ginput(2)\n",
    "print('Locations recorded')"
   ]
  },
  {
   "cell_type": "code",
   "execution_count": 21,
   "metadata": {},
   "outputs": [],
   "source": [
    "zbot_rho=int(np.round(density_locations[0][1]))\n",
    "ztop_rho=int(np.round(density_locations[1][1]))\n",
    "\n",
    "beta = (rho_bottom-rho_top)/(splintensity[zbot_rho]-splintensity[ztop_rho])\n",
    "splintensity_bottom_ref = splintensity[zbot_rho]\n",
    "\n",
    "rho = rho_bottom+beta*(splintensity-splintensity_bottom_ref)"
   ]
  },
  {
   "cell_type": "code",
   "execution_count": 35,
   "metadata": {},
   "outputs": [
    {
     "data": {
      "text/plain": [
       "[<matplotlib.lines.Line2D at 0x23891abb278>]"
      ]
     },
     "execution_count": 35,
     "metadata": {},
     "output_type": "execute_result"
    }
   ],
   "source": [
    "plt.figure()\n",
    "plt.title('Density Profile')\n",
    "plt.xlabel('Density (kg/m3)')\n",
    "plt.ylabel('z (m)')\n",
    "plt.plot(rho,depth_array, 'b', label='Raw')\n",
    "\n"
   ]
  },
  {
   "cell_type": "code",
   "execution_count": null,
   "metadata": {},
   "outputs": [],
   "source": [
    "#do not currently have mass corention included"
   ]
  },
  {
   "cell_type": "code",
   "execution_count": 23,
   "metadata": {},
   "outputs": [],
   "source": [
    "np.savez('{}/results/profile_0'.format(os.path.dirname(foreground_path[0])),gamma,beta,splintensity,rho,rho_bottom,rho_top,depth_array)"
   ]
  },
  {
   "cell_type": "code",
   "execution_count": null,
   "metadata": {},
   "outputs": [],
   "source": [
    "#running over-remaining pictures\n",
    "f_image = cv2.imread(foreground_path[0],0)"
   ]
  },
  {
   "cell_type": "code",
   "execution_count": 39,
   "metadata": {},
   "outputs": [],
   "source": [
    "for i in range(no_images-1):\n",
    "    p = i+1\n",
    "    \n",
    "    #reading in image\n",
    "    image = cv2.imread(foreground_path[p],0)\n",
    "    image_crop=image[int(free_surface[0][1]):int(free_surface[1][1]),int(crop_region[0][0]):int(crop_region[1][0])]\n",
    "    \n",
    "    #creating profile\n",
    "    ratio =image_crop/b_image_crop\n",
    "    log_ratio = np.log(ratio)\n",
    "\n",
    "    #getting rid of unwated inf_values\n",
    "    log_ratio[np.isinf(log_ratio)]=np.nan\n",
    "    mean_ratio_profile = np.mean(log_ratio,1)\n",
    "    intensity = mean_ratio_profile[::-1]\n",
    "    \n",
    "    splintensity=np.copy(intensity)\n",
    "    splintensity[ztop:]=splintensity[ztop]\n",
    "    splintensity[0:zbot]=slope*(np.linspace(0,bottomsection[0][1], zbot)-intercept)\n",
    "    \n",
    "    beta = (rho_bottom-rho_top)/(splintensity[zbot_rho]-splintensity[ztop_rho])\n",
    "    splintensity_bottom_ref = splintensity[zbot_rho]\n",
    "    rho= rho_bottom+beta*(splintensity-splintensity_bottom_ref)\n",
    "    np.savez('{}/results/profile_{}'.format(os.path.dirname(foreground_path[0]),p),gamma,beta,splintensity,rho,rho_bottom,rho_top,depth_array)\n",
    "    plt.title('Density Profile')\n",
    "    plt.xlabel('Density (kg/m3)')\n",
    "    plt.ylabel('z (m)')\n",
    "    plt.plot(rho,depth_array)\n"
   ]
  }
 ],
 "metadata": {
  "kernelspec": {
   "display_name": "Python 3",
   "language": "python",
   "name": "python3"
  },
  "language_info": {
   "codemirror_mode": {
    "name": "ipython",
    "version": 3
   },
   "file_extension": ".py",
   "mimetype": "text/x-python",
   "name": "python",
   "nbconvert_exporter": "python",
   "pygments_lexer": "ipython3",
   "version": "3.7.1"
  }
 },
 "nbformat": 4,
 "nbformat_minor": 2
}
