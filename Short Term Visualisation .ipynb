{
 "cells": [
  {
   "cell_type": "markdown",
   "metadata": {},
   "source": [
    "# Code to visualise short time scale variations"
   ]
  },
  {
   "cell_type": "code",
   "execution_count": 1,
   "metadata": {},
   "outputs": [],
   "source": [
    "%matplotlib qt\n",
    "#notebook backend important\n",
    "import matplotlib\n",
    "import numpy as np\n",
    "import pandas as pd\n",
    "import matplotlib.pyplot as plt\n",
    "import os.path\n",
    "import cv2\n",
    "from tkinter.filedialog import askopenfilename\n",
    "from tkinter.filedialog import askopenfilenames\n",
    "import matplotlib.animation as animation\n",
    "from scipy import signal "
   ]
  },
  {
   "cell_type": "code",
   "execution_count": 2,
   "metadata": {},
   "outputs": [],
   "source": [
    "\n",
    "def index_find(depths,click):\n",
    "    lst = depths>click\n",
    "    for i,v in enumerate(lst):\n",
    "        if v==True:\n",
    "            return i"
   ]
  },
  {
   "cell_type": "code",
   "execution_count": 3,
   "metadata": {},
   "outputs": [],
   "source": [
    "excel_path = askopenfilename() #paTh to excel doc with data\n",
    "data = pd.read_excel(excel_path)"
   ]
  },
  {
   "cell_type": "code",
   "execution_count": 4,
   "metadata": {
    "scrolled": true
   },
   "outputs": [
    {
     "name": "stdout",
     "output_type": "stream",
     "text": [
      "Run number:1\n",
      "Data read\n"
     ]
    }
   ],
   "source": [
    "%matplotlib qt\n",
    "\n",
    "run_num = int(input('Run number:'))\n",
    "print('Data read')\n",
    "#getting data from excel doc\n",
    "rho_bottom = data.iloc[run_num-1, 7]\n",
    "rho_top = data.iloc[run_num-1, 6]\n",
    "depth = data.iloc[run_num-1, 2]\n",
    "tank_length=1.2"
   ]
  },
  {
   "cell_type": "code",
   "execution_count": 7,
   "metadata": {},
   "outputs": [],
   "source": [
    "#now choose background image\n",
    "\n",
    "background_path = askopenfilename() \n",
    "b_image = cv2.imread(background_path,0)"
   ]
  },
  {
   "cell_type": "code",
   "execution_count": 8,
   "metadata": {},
   "outputs": [
    {
     "name": "stdout",
     "output_type": "stream",
     "text": [
      "Top left then bottom right\n",
      "Locations recorded\n"
     ]
    }
   ],
   "source": [
    "#Choose area that you want to average over\n",
    "plt.figure()\n",
    "plt.title('Choose Area to Average over')\n",
    "plt.ylabel('z (m)')\n",
    "plt.imshow(b_image, cmap='gist_gray')\n",
    "print('Top left then bottom right' )\n",
    "density_locations = plt.ginput(2)\n",
    "print('Locations recorded')\n",
    "\n",
    "zbot_0=int(np.round(density_locations[0][1]))\n",
    "ztop_0=int(np.round(density_locations[1][1]))\n",
    "xleft=int(np.round(density_locations[0][0]))\n",
    "xright=int(np.round(density_locations[1][0]))\n",
    "\n",
    "back_crop= b_image[zbot_0:ztop_0,xleft:xright]\n"
   ]
  },
  {
   "cell_type": "code",
   "execution_count": 9,
   "metadata": {},
   "outputs": [],
   "source": [
    "log_back = np.log(back_crop)\n",
    "\n",
    "#getting rid of unwated inf_values\n",
    "log_back[np.isinf(log_back)]=np.nan\n",
    "\n",
    "mean_ratio_profile = np.mean(log_back,1)\n",
    "intensity = mean_ratio_profile[::-1]\n",
    "depth_array = np.linspace(0,depth,len(mean_ratio_profile))"
   ]
  },
  {
   "cell_type": "code",
   "execution_count": 10,
   "metadata": {},
   "outputs": [
    {
     "name": "stdout",
     "output_type": "stream",
     "text": [
      "Choose bottom of top section\n",
      "Location recorded\n"
     ]
    }
   ],
   "source": [
    "splintensity=np.copy(intensity)\n",
    "\n",
    "plt.figure()\n",
    "plt.plot(intensity,depth_array)\n",
    "plt.xlabel('ln (Ix/Ix0)')\n",
    "plt.ylabel('z (m)')\n",
    "plt.title('Select Top Section of Absorption Profile')\n",
    "print('Choose bottom of top section')\n",
    "topsection = plt.ginput(1)[0][1]\n",
    "print('Location recorded')\n",
    "ztop=index_find(depth_array,topsection) \n",
    "splintensity[ztop:]=splintensity[ztop]"
   ]
  },
  {
   "cell_type": "code",
   "execution_count": 11,
   "metadata": {},
   "outputs": [
    {
     "name": "stdout",
     "output_type": "stream",
     "text": [
      "Choose top then bottom\n",
      "Locations recorded\n"
     ]
    }
   ],
   "source": [
    "plt.figure()\n",
    "plt.plot(splintensity,depth_array)\n",
    "plt.xlabel('ln (Ix/Ix0)')\n",
    "plt.ylabel('z (m)')\n",
    "plt.title('Select Bottom Section of Absorption Profile')\n",
    "print('Choose top then bottom')\n",
    "bottomsection = plt.ginput(2)\n",
    "print('Locations recorded')"
   ]
  },
  {
   "cell_type": "code",
   "execution_count": 12,
   "metadata": {},
   "outputs": [
    {
     "data": {
      "text/plain": [
       "<matplotlib.legend.Legend at 0x2113dd51160>"
      ]
     },
     "execution_count": 12,
     "metadata": {},
     "output_type": "execute_result"
    }
   ],
   "source": [
    "slope = (bottomsection[0][0]-bottomsection[1][0])/bottomsection[0][1]\n",
    "intercept = bottomsection[0][1]-bottomsection[0][0]/slope\n",
    "zbot=index_find(depth_array, bottomsection[0][1]) \n",
    "splintensity[0:zbot]=slope*(np.linspace(0,bottomsection[0][1], zbot)-intercept)\n",
    "plt.figure()\n",
    "plt.title('Absorbtion Profile')\n",
    "plt.xlabel('ln (Ix/Ix0)')\n",
    "plt.ylabel('z (m)')\n",
    "plt.plot(intensity,depth_array, 'b', label='Raw')\n",
    "plt.plot(splintensity,depth_array, 'r',label='Updated')\n",
    "plt.legend()"
   ]
  },
  {
   "cell_type": "code",
   "execution_count": 14,
   "metadata": {},
   "outputs": [
    {
     "name": "stdout",
     "output_type": "stream",
     "text": [
      "Position of density sample close to bottom, then close to free surface\n",
      "Locations recorded\n"
     ]
    }
   ],
   "source": [
    "#determining the location of density samples (rho_bottom, rho_top)\n",
    "\n",
    "plt.figure()\n",
    "plt.title('Density Sample Locations')\n",
    "plt.ylabel('z (m)')\n",
    "plt.imshow(back_crop, cmap='gist_gray')\n",
    "print('Position of density sample close to bottom, then close to free surface' )\n",
    "density_locations = plt.ginput(2)\n",
    "print('Locations recorded')\n",
    "\n",
    "zbot_rho=int(np.round(density_locations[0][1]))\n",
    "ztop_rho=int(np.round(density_locations[1][1]))\n",
    "\n",
    "beta = (rho_bottom-rho_top)/(splintensity[zbot_rho]-splintensity[ztop_rho])\n",
    "splintensity_bottom_ref = splintensity[zbot_rho]\n",
    "\n",
    "rho = rho_bottom+np.float64(beta*(splintensity-splintensity_bottom_ref))"
   ]
  },
  {
   "cell_type": "code",
   "execution_count": 15,
   "metadata": {},
   "outputs": [
    {
     "data": {
      "text/plain": [
       "Text(0.5, 1.0, 'Background Density')"
      ]
     },
     "execution_count": 15,
     "metadata": {},
     "output_type": "execute_result"
    }
   ],
   "source": [
    "plt.figure()\n",
    "plt.plot(rho, depth_array)\n",
    "plt.xlabel('rho (kg/m^3)')\n",
    "plt.ylabel('z (m)')\n",
    "plt.title('Background Density')"
   ]
  },
  {
   "cell_type": "code",
   "execution_count": 19,
   "metadata": {},
   "outputs": [],
   "source": [
    "#now choose the pictures you want to look over\n",
    "foreground_path = askopenfilenames()\n",
    "no_images = len(foreground_path)\n",
    "os.mkdir('{}/densityfields'.format(os.path.dirname(foreground_path[0])))"
   ]
  },
  {
   "cell_type": "code",
   "execution_count": 20,
   "metadata": {},
   "outputs": [
    {
     "name": "stdout",
     "output_type": "stream",
     "text": [
      "198 Images to analyse!\n"
     ]
    }
   ],
   "source": [
    "%matplotlib inline\n",
    "print('{} Images to analyse!'.format(no_images))\n",
    "#done to stop hundreds of plots occuring"
   ]
  },
  {
   "cell_type": "code",
   "execution_count": null,
   "metadata": {
    "scrolled": true
   },
   "outputs": [
    {
     "name": "stderr",
     "output_type": "stream",
     "text": [
      "C:\\Users\\u6201343\\AppData\\Local\\Continuum\\anaconda3\\lib\\site-packages\\ipykernel_launcher.py:10: RuntimeWarning: divide by zero encountered in log\n",
      "  # Remove the CWD from sys.path while we load stuff.\n",
      "C:\\Users\\u6201343\\AppData\\Local\\Continuum\\anaconda3\\lib\\site-packages\\ipykernel_launcher.py:19: RuntimeWarning: invalid value encountered in greater\n"
     ]
    },
    {
     "name": "stdout",
     "output_type": "stream",
     "text": [
      "100 Images out of 198 Done!\n"
     ]
    }
   ],
   "source": [
    "ims=[]\n",
    "\n",
    "fig = plt.figure(figsize=(15,8))\n",
    "cmap = matplotlib.cm.coolwarm\n",
    "cmap.set_under(color='black')\n",
    "    \n",
    "for i in range(no_images):\n",
    "    f_image = cv2.imread(foreground_path[i],0)\n",
    "    f_image_crop=f_image[zbot_0:ztop_0,:]\n",
    "    log = np.log(f_image_crop)\n",
    "\n",
    "    #getting rid of unwated inf_values\n",
    "    log[np.isinf(log)]=np.nan\n",
    "    \n",
    "    density = rho_bottom+np.float64(beta*(log-splintensity_bottom_ref))\n",
    "    delta_den=density[:,50:-50][::-1]-rho[:,None]\n",
    "    density_filt=signal.medfilt2d(delta_den,3)\n",
    "    a=density_filt\n",
    "    a[a>3]=np.nan\n",
    "    \n",
    " \n",
    "    plt.clf\n",
    "    plt.xlabel('Length (m)')\n",
    "    plt.ylabel('Depth (m)')\n",
    "    plt.title('Run {}'.format(run_num), fontsize=20)\n",
    "    \n",
    "    im=plt.imshow(a[50:,:][::-1], cmap=cmap, animated=True, vmin=-2,vmax=2, extent=[0,tank_length,depth,0])\n",
    "    plt.colorbar()\n",
    "    ims.append([im])\n",
    "    plt.close(\"all\")\n",
    "    if i in [100,200,300,400,500,600,700,800,900]:\n",
    "        print('{} Images out of {} Done!'.format(i,no_images))\n",
    "        \n",
    "ani = animation.ArtistAnimation(fig, ims, interval=125, blit=True,\n",
    "                                repeat_delay=1000)\n",
    "\n",
    "ani.save('{}/densityfields/run_{}.mp4'.format(os.path.dirname(foreground_path[0]),run_num))\n"
   ]
  },
  {
   "cell_type": "code",
   "execution_count": 47,
   "metadata": {},
   "outputs": [
    {
     "data": {
      "text/plain": [
       "<matplotlib.image.AxesImage at 0x1b702ef53c8>"
      ]
     },
     "execution_count": 47,
     "metadata": {},
     "output_type": "execute_result"
    },
    {
     "data": {
      "image/png": "[encoded data removed]",
      "text/plain": [
       "<Figure size 432x288 with 1 Axes>"
      ]
     },
     "metadata": {
      "needs_background": "light"
     },
     "output_type": "display_data"
    }
   ],
   "source": [
    "plt.imshow(a[50:,:][::-1], cmap=cmap, animated=True, vmin=-2,vmax=2, extent=[0,tank_length,depth,0])"
   ]
  },
  {
   "cell_type": "code",
   "execution_count": null,
   "metadata": {},
   "outputs": [],
   "source": []
  }
 ],
 "metadata": {
  "kernelspec": {
   "display_name": "Python 3",
   "language": "python",
   "name": "python3"
  },
  "language_info": {
   "codemirror_mode": {
    "name": "ipython",
    "version": 3
   },
   "file_extension": ".py",
   "mimetype": "text/x-python",
   "name": "python",
   "nbconvert_exporter": "python",
   "pygments_lexer": "ipython3",
   "version": "3.7.1"
  }
 },
 "nbformat": 4,
 "nbformat_minor": 2
}
